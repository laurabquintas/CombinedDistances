{
 "cells": [
  {
   "cell_type": "code",
   "execution_count": 1,
   "id": "c8f9f0d7",
   "metadata": {},
   "outputs": [],
   "source": [
    "# This command compiles the C++ source code file 'main.cpp' into an executable named 'main'.\n",
    "# The '-std=c++11' option specifies that the code should be compiled using the C++11 standard.\n",
    "!g++ -std=c++11 main.cpp -o main"
   ]
  }
 ],
 "metadata": {
  "kernelspec": {
   "display_name": "Python 3 (ipykernel)",
   "language": "python",
   "name": "python3"
  },
  "language_info": {
   "codemirror_mode": {
    "name": "ipython",
    "version": 3
   },
   "file_extension": ".py",
   "mimetype": "text/x-python",
   "name": "python",
   "nbconvert_exporter": "python",
   "pygments_lexer": "ipython3",
   "version": "3.10.9"
  }
 },
 "nbformat": 4,
 "nbformat_minor": 5
}
