{
 "cells": [
  {
   "cell_type": "code",
   "execution_count": 13,
   "metadata": {},
   "outputs": [],
   "source": [
    "from mp3treesim.mp3treesim import similarity as mp3\n",
    "from mp3treesim.mp3treesim import draw_tree as draw\n",
    "from mp3treesim.mp3treesim import read_dotfile, draw_tree\n",
    "import os\n",
    "import pandas as pd\n",
    "import networkx as nx\n",
    "import seaborn as sns\n",
    "import matplotlib.pyplot as plt\n",
    "import matplotlib\n",
    "import matplotlib as mpl\n",
    "#import arff\n",
    "import numpy as np\n",
    "import tqdm"
   ]
  },
  {
   "cell_type": "code",
   "execution_count": 3,
   "metadata": {},
   "outputs": [],
   "source": [
    "current_directory = os.getcwd()\n",
    "#\"Patient_ID\",\"Tree_ID\",\"Node_ID\",\"Mutation_ID\",\"Parent_ID\"\n",
    "df = pd.read_csv(current_directory[:-11] + \"/Cancer data/brca_trees.csv\", sep = ',')\n",
    "tree_ids = df[\"Tree_ID\"].unique()"
   ]
  },
  {
   "cell_type": "code",
   "execution_count": null,
   "metadata": {},
   "outputs": [],
   "source": [
    "for tree_id in tree_ids:\n",
    "    G = nx.DiGraph()\n",
    "    curr_df = df[df[\"Tree_ID\"] == tree_id]\n",
    "    #f.write(\"#tree \"+str(tree_id)+\":  \"+str(len(curr_df[\"Tree_ID\"])-1)+\"\\n\")\n",
    "    nodes = set.union(set(curr_df[\"Parent_ID\"]), set(curr_df[\"Node_ID\"]))\n",
    "    for node in nodes:\n",
    "        G.add_node(str(node))\n",
    "    for index, row in curr_df.iterrows():\n",
    "        if row[\"Parent_ID\"] == row[\"Node_ID\"]:\n",
    "            continue\n",
    "        G.add_edge(str(row[\"Parent_ID\"]), str(row[\"Node_ID\"]))\n",
    "    nx.nx_agraph.write_dot(G, current_directory[:-11] + \"/Cancer data/trees/tree\" + str(tree_id) + \".gv\")"
   ]
  },
  {
   "cell_type": "code",
   "execution_count": null,
   "metadata": {},
   "outputs": [],
   "source": [
    "tree_matrix = []\n",
    "\n",
    "\n",
    "for i in range(len(tree_ids)):\n",
    "    tree1 = read_dotfile(current_directory[:-11]+\"/Cancer data/trees/tree\" +str(i+1)+\".gv\")\n",
    "    tree_matrix.append([])\n",
    "    for j in range(len(tree_ids)):\n",
    "        tree2 = read_dotfile(current_directory[:-11]+\"/Cancer data/trees/tree\" +str(j+1)+\".gv\")\n",
    "        tree_matrix[i].append(mp3(tree1,tree2))"
   ]
  },
  {
   "cell_type": "code",
   "execution_count": 52,
   "metadata": {},
   "outputs": [],
   "source": [
    "tree1 = read_dotfile(current_directory[:-11]+\"/Cancer data/trees/tree1.gv\")\n",
    "tree3 = read_dotfile(current_directory[:-11]+\"/Cancer data/trees/tree23.gv\")"
   ]
  },
  {
   "cell_type": "code",
   "execution_count": 53,
   "metadata": {},
   "outputs": [
    {
     "ename": "ZeroDivisionError",
     "evalue": "float division by zero",
     "output_type": "error",
     "traceback": [
      "\u001b[1;31m---------------------------------------------------------------------------\u001b[0m",
      "\u001b[1;31mZeroDivisionError\u001b[0m                         Traceback (most recent call last)",
      "\u001b[1;32m~\\AppData\\Local\\Temp/ipykernel_17932/3472637644.py\u001b[0m in \u001b[0;36m<module>\u001b[1;34m\u001b[0m\n\u001b[1;32m----> 1\u001b[1;33m \u001b[0ms\u001b[0m \u001b[1;33m=\u001b[0m \u001b[0mmp3\u001b[0m\u001b[1;33m(\u001b[0m\u001b[0mtree1\u001b[0m\u001b[1;33m,\u001b[0m\u001b[0mtree3\u001b[0m\u001b[1;33m)\u001b[0m\u001b[1;33m\u001b[0m\u001b[1;33m\u001b[0m\u001b[0m\n\u001b[0m",
      "\u001b[1;32m~\\Documents\\GitHub\\Combined-Distances\\Ciccolella\\mp3treesim\\mp3treesim.py\u001b[0m in \u001b[0;36msimilarity\u001b[1;34m(tree1, tree2, mode, sigmoid_mult, cores)\u001b[0m\n\u001b[0;32m    239\u001b[0m         \u001b[0msimilarity_score\u001b[0m \u001b[1;33m=\u001b[0m \u001b[0mfloat\u001b[0m\u001b[1;33m(\u001b[0m\u001b[0mnumerator\u001b[0m\u001b[1;33m)\u001b[0m \u001b[1;33m/\u001b[0m \u001b[1;33m(\u001b[0m\u001b[0mdenominator_i\u001b[0m \u001b[1;33m+\u001b[0m \u001b[0mdenominator_u\u001b[0m\u001b[1;33m)\u001b[0m\u001b[1;33m\u001b[0m\u001b[1;33m\u001b[0m\u001b[0m\n\u001b[0;32m    240\u001b[0m     \u001b[1;32melse\u001b[0m\u001b[1;33m:\u001b[0m\u001b[1;33m\u001b[0m\u001b[1;33m\u001b[0m\u001b[0m\n\u001b[1;32m--> 241\u001b[1;33m         \u001b[0msimilarity_score_i\u001b[0m \u001b[1;33m=\u001b[0m \u001b[0mfloat\u001b[0m\u001b[1;33m(\u001b[0m\u001b[0mnumerator\u001b[0m\u001b[1;33m)\u001b[0m \u001b[1;33m/\u001b[0m \u001b[0mdenominator_i\u001b[0m\u001b[1;33m\u001b[0m\u001b[1;33m\u001b[0m\u001b[0m\n\u001b[0m\u001b[0;32m    242\u001b[0m         \u001b[0msimilarity_score_u\u001b[0m \u001b[1;33m=\u001b[0m \u001b[0mfloat\u001b[0m\u001b[1;33m(\u001b[0m\u001b[0mnumerator\u001b[0m\u001b[1;33m)\u001b[0m \u001b[1;33m/\u001b[0m \u001b[1;33m(\u001b[0m\u001b[0mdenominator_i\u001b[0m \u001b[1;33m+\u001b[0m \u001b[0mdenominator_u\u001b[0m\u001b[1;33m)\u001b[0m\u001b[1;33m\u001b[0m\u001b[1;33m\u001b[0m\u001b[0m\n\u001b[0;32m    243\u001b[0m \u001b[1;33m\u001b[0m\u001b[0m\n",
      "\u001b[1;31mZeroDivisionError\u001b[0m: float division by zero"
     ]
    }
   ],
   "source": [
    "s = mp3(tree1,tree3)"
   ]
  },
  {
   "cell_type": "code",
   "execution_count": 54,
   "metadata": {},
   "outputs": [
    {
     "data": {
      "image/png": "[encoded data removed]",
      "text/plain": [
       "<Figure size 432x288 with 1 Axes>"
      ]
     },
     "metadata": {},
     "output_type": "display_data"
    }
   ],
   "source": [
    "draw(tree3)"
   ]
  },
  {
   "cell_type": "code",
   "execution_count": 51,
   "metadata": {},
   "outputs": [
    {
     "name": "stdout",
     "output_type": "stream",
     "text": [
      "0.5\n"
     ]
    }
   ],
   "source": [
    "print(s)"
   ]
  }
 ],
 "metadata": {
  "kernelspec": {
   "display_name": "Python 3 (ipykernel)",
   "language": "python",
   "name": "python3"
  },
  "language_info": {
   "codemirror_mode": {
    "name": "ipython",
    "version": 3
   },
   "file_extension": ".py",
   "mimetype": "text/x-python",
   "name": "python",
   "nbconvert_exporter": "python",
   "pygments_lexer": "ipython3",
   "version": "3.9.0"
  }
 },
 "nbformat": 4,
 "nbformat_minor": 2
}
